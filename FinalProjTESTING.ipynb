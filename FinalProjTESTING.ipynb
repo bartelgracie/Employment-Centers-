{
 "cells": [
  {
   "cell_type": "code",
   "execution_count": 1,
   "id": "45f817a5-eaa0-4b95-b6bd-43601edcb9fd",
   "metadata": {},
   "outputs": [
    {
     "name": "stderr",
     "output_type": "stream",
     "text": [
      "/opt/tljh/user/lib/python3.10/site-packages/numba/core/decorators.py:262: NumbaDeprecationWarning: \u001b[1mnumba.generated_jit is deprecated. Please see the documentation at: https://numba.readthedocs.io/en/stable/reference/deprecation.html#deprecation-of-generated-jit for more information and advice on a suitable replacement.\u001b[0m\n",
      "  warnings.warn(msg, NumbaDeprecationWarning)\n",
      "/opt/tljh/user/lib/python3.10/site-packages/quantecon/lss.py:20: NumbaDeprecationWarning: \u001b[1mThe 'nopython' keyword argument was not supplied to the 'numba.jit' decorator. The implicit default value for this argument is currently False, but it will be changed to True in Numba 0.59.0. See https://numba.readthedocs.io/en/stable/reference/deprecation.html#deprecation-of-object-mode-fall-back-behaviour-when-using-jit for details.\u001b[0m\n",
      "  def simulate_linear_model(A, x0, v, ts_length):\n",
      "/opt/tljh/user/lib/python3.10/site-packages/spaghetti/network.py:40: FutureWarning: The next major release of pysal/spaghetti (2.0.0) will drop support for all ``libpysal.cg`` geometries. This change is a first step in refactoring ``spaghetti`` that is expected to result in dramatically reduced runtimes for network instantiation and operations. Users currently requiring network and point pattern input as ``libpysal.cg`` geometries should prepare for this simply by converting to ``shapely`` geometries.\n",
      "  warnings.warn(dep_msg, FutureWarning, stacklevel=1)\n"
     ]
    }
   ],
   "source": [
    "import geopandas as gpd\n",
    "import pandas as pd\n",
    "import mapclassify\n",
    "import pysal\n",
    "import matplotlib.pyplot as plt\n",
    "from pysal.explore import esda\n",
    "from pysal.explore import inequality\n",
    "from pysal.lib import weights\n",
    "from shapely.geometry import LineString, MultiLineString, Point\n",
    "import numpy as np\n",
    "from geosnap.analyze import isochrones_from_id, isochrones_from_gdf, pdna_to_adj \n",
    "from geosnap.io import get_acs, get_lodes\n",
    "from geosnap import DataStore\n",
    "import os\n",
    "from random import sample\n",
    "import tobler\n",
    "import pandana as pdna\n",
    "import quilt3 as q3\n",
    "from tobler.area_weighted import area_interpolate"
   ]
  },
  {
   "cell_type": "code",
   "execution_count": null,
   "id": "85f16c40-2eb8-461d-a938-a18f25be1ae6",
   "metadata": {},
   "outputs": [],
   "source": []
  }
 ],
 "metadata": {
  "kernelspec": {
   "display_name": "Python 3 (ipykernel)",
   "language": "python",
   "name": "python3"
  },
  "language_info": {
   "codemirror_mode": {
    "name": "ipython",
    "version": 3
   },
   "file_extension": ".py",
   "mimetype": "text/x-python",
   "name": "python",
   "nbconvert_exporter": "python",
   "pygments_lexer": "ipython3",
   "version": "3.10.10"
  }
 },
 "nbformat": 4,
 "nbformat_minor": 5
}
